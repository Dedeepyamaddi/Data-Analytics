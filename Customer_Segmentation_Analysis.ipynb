{
  "nbformat": 4,
  "nbformat_minor": 0,
  "metadata": {
    "colab": {
      "provenance": [],
      "mount_file_id": "15eV2frfbCAs5mUW2OLco7RKxdivxh_V5",
      "authorship_tag": "ABX9TyM0pPpKQAckDIWW6s8zZP0u",
      "include_colab_link": true
    },
    "kernelspec": {
      "name": "python3",
      "display_name": "Python 3"
    },
    "language_info": {
      "name": "python"
    }
  },
  "cells": [
    {
      "cell_type": "markdown",
      "metadata": {
        "id": "view-in-github",
        "colab_type": "text"
      },
      "source": [
        "<a href=\"https://colab.research.google.com/github/Dedeepyamaddi/Data-Analytics/blob/main/Customer_Segmentation_Analysis.ipynb\" target=\"_parent\"><img src=\"https://colab.research.google.com/assets/colab-badge.svg\" alt=\"Open In Colab\"/></a>"
      ]
    },
    {
      "cell_type": "code",
      "source": [
        "import pandas as pd\n",
        "\n",
        "# Load your dataset\n",
        "df = pd.read_csv(\"/content/ifood_df.csv\")  # Replace with your actual file name\n",
        "\n",
        "# View top rows\n",
        "print(df.head())\n",
        "\n",
        "# View shape and column names\n",
        "print(\"Shape:\", df.shape)\n",
        "print(\"Columns:\", df.columns.tolist())\n"
      ],
      "metadata": {
        "colab": {
          "base_uri": "https://localhost:8080/"
        },
        "id": "NA-VR31hdF0Q",
        "outputId": "42bc628c-15a7-4fbc-d7e3-1373eaf111dc"
      },
      "execution_count": null,
      "outputs": [
        {
          "output_type": "stream",
          "name": "stdout",
          "text": [
            "    Income  Kidhome  Teenhome  Recency  MntWines  MntFruits  MntMeatProducts  \\\n",
            "0  58138.0        0         0       58       635         88              546   \n",
            "1  46344.0        1         1       38        11          1                6   \n",
            "2  71613.0        0         0       26       426         49              127   \n",
            "3  26646.0        1         0       26        11          4               20   \n",
            "4  58293.0        1         0       94       173         43              118   \n",
            "\n",
            "   MntFishProducts  MntSweetProducts  MntGoldProds  ...  marital_Together  \\\n",
            "0              172                88            88  ...                 0   \n",
            "1                2                 1             6  ...                 0   \n",
            "2              111                21            42  ...                 1   \n",
            "3               10                 3             5  ...                 1   \n",
            "4               46                27            15  ...                 0   \n",
            "\n",
            "   marital_Widow  education_2n Cycle  education_Basic  education_Graduation  \\\n",
            "0              0                   0                0                     1   \n",
            "1              0                   0                0                     1   \n",
            "2              0                   0                0                     1   \n",
            "3              0                   0                0                     1   \n",
            "4              0                   0                0                     0   \n",
            "\n",
            "   education_Master  education_PhD  MntTotal  MntRegularProds  \\\n",
            "0                 0              0      1529             1441   \n",
            "1                 0              0        21               15   \n",
            "2                 0              0       734              692   \n",
            "3                 0              0        48               43   \n",
            "4                 0              1       407              392   \n",
            "\n",
            "   AcceptedCmpOverall  \n",
            "0                   0  \n",
            "1                   0  \n",
            "2                   0  \n",
            "3                   0  \n",
            "4                   0  \n",
            "\n",
            "[5 rows x 39 columns]\n",
            "Shape: (2205, 39)\n",
            "Columns: ['Income', 'Kidhome', 'Teenhome', 'Recency', 'MntWines', 'MntFruits', 'MntMeatProducts', 'MntFishProducts', 'MntSweetProducts', 'MntGoldProds', 'NumDealsPurchases', 'NumWebPurchases', 'NumCatalogPurchases', 'NumStorePurchases', 'NumWebVisitsMonth', 'AcceptedCmp3', 'AcceptedCmp4', 'AcceptedCmp5', 'AcceptedCmp1', 'AcceptedCmp2', 'Complain', 'Z_CostContact', 'Z_Revenue', 'Response', 'Age', 'Customer_Days', 'marital_Divorced', 'marital_Married', 'marital_Single', 'marital_Together', 'marital_Widow', 'education_2n Cycle', 'education_Basic', 'education_Graduation', 'education_Master', 'education_PhD', 'MntTotal', 'MntRegularProds', 'AcceptedCmpOverall']\n"
          ]
        }
      ]
    },
    {
      "cell_type": "code",
      "source": [
        "# Overview of data types and non-null counts\n",
        "print(df.info())\n",
        "\n",
        "# Descriptive statistics\n",
        "print(df.describe())\n"
      ],
      "metadata": {
        "colab": {
          "base_uri": "https://localhost:8080/"
        },
        "id": "DB_OgFSAdLTr",
        "outputId": "4277f341-e4da-4b1b-85a2-868facde6d20"
      },
      "execution_count": null,
      "outputs": [
        {
          "output_type": "stream",
          "name": "stdout",
          "text": [
            "<class 'pandas.core.frame.DataFrame'>\n",
            "RangeIndex: 2205 entries, 0 to 2204\n",
            "Data columns (total 39 columns):\n",
            " #   Column                Non-Null Count  Dtype  \n",
            "---  ------                --------------  -----  \n",
            " 0   Income                2205 non-null   float64\n",
            " 1   Kidhome               2205 non-null   int64  \n",
            " 2   Teenhome              2205 non-null   int64  \n",
            " 3   Recency               2205 non-null   int64  \n",
            " 4   MntWines              2205 non-null   int64  \n",
            " 5   MntFruits             2205 non-null   int64  \n",
            " 6   MntMeatProducts       2205 non-null   int64  \n",
            " 7   MntFishProducts       2205 non-null   int64  \n",
            " 8   MntSweetProducts      2205 non-null   int64  \n",
            " 9   MntGoldProds          2205 non-null   int64  \n",
            " 10  NumDealsPurchases     2205 non-null   int64  \n",
            " 11  NumWebPurchases       2205 non-null   int64  \n",
            " 12  NumCatalogPurchases   2205 non-null   int64  \n",
            " 13  NumStorePurchases     2205 non-null   int64  \n",
            " 14  NumWebVisitsMonth     2205 non-null   int64  \n",
            " 15  AcceptedCmp3          2205 non-null   int64  \n",
            " 16  AcceptedCmp4          2205 non-null   int64  \n",
            " 17  AcceptedCmp5          2205 non-null   int64  \n",
            " 18  AcceptedCmp1          2205 non-null   int64  \n",
            " 19  AcceptedCmp2          2205 non-null   int64  \n",
            " 20  Complain              2205 non-null   int64  \n",
            " 21  Z_CostContact         2205 non-null   int64  \n",
            " 22  Z_Revenue             2205 non-null   int64  \n",
            " 23  Response              2205 non-null   int64  \n",
            " 24  Age                   2205 non-null   int64  \n",
            " 25  Customer_Days         2205 non-null   int64  \n",
            " 26  marital_Divorced      2205 non-null   int64  \n",
            " 27  marital_Married       2205 non-null   int64  \n",
            " 28  marital_Single        2205 non-null   int64  \n",
            " 29  marital_Together      2205 non-null   int64  \n",
            " 30  marital_Widow         2205 non-null   int64  \n",
            " 31  education_2n Cycle    2205 non-null   int64  \n",
            " 32  education_Basic       2205 non-null   int64  \n",
            " 33  education_Graduation  2205 non-null   int64  \n",
            " 34  education_Master      2205 non-null   int64  \n",
            " 35  education_PhD         2205 non-null   int64  \n",
            " 36  MntTotal              2205 non-null   int64  \n",
            " 37  MntRegularProds       2205 non-null   int64  \n",
            " 38  AcceptedCmpOverall    2205 non-null   int64  \n",
            "dtypes: float64(1), int64(38)\n",
            "memory usage: 672.0 KB\n",
            "None\n",
            "              Income      Kidhome     Teenhome      Recency     MntWines  \\\n",
            "count    2205.000000  2205.000000  2205.000000  2205.000000  2205.000000   \n",
            "mean    51622.094785     0.442177     0.506576    49.009070   306.164626   \n",
            "std     20713.063826     0.537132     0.544380    28.932111   337.493839   \n",
            "min      1730.000000     0.000000     0.000000     0.000000     0.000000   \n",
            "25%     35196.000000     0.000000     0.000000    24.000000    24.000000   \n",
            "50%     51287.000000     0.000000     0.000000    49.000000   178.000000   \n",
            "75%     68281.000000     1.000000     1.000000    74.000000   507.000000   \n",
            "max    113734.000000     2.000000     2.000000    99.000000  1493.000000   \n",
            "\n",
            "         MntFruits  MntMeatProducts  MntFishProducts  MntSweetProducts  \\\n",
            "count  2205.000000      2205.000000      2205.000000       2205.000000   \n",
            "mean     26.403175       165.312018        37.756463         27.128345   \n",
            "std      39.784484       217.784507        54.824635         41.130468   \n",
            "min       0.000000         0.000000         0.000000          0.000000   \n",
            "25%       2.000000        16.000000         3.000000          1.000000   \n",
            "50%       8.000000        68.000000        12.000000          8.000000   \n",
            "75%      33.000000       232.000000        50.000000         34.000000   \n",
            "max     199.000000      1725.000000       259.000000        262.000000   \n",
            "\n",
            "       MntGoldProds  ...  marital_Together  marital_Widow  education_2n Cycle  \\\n",
            "count   2205.000000  ...       2205.000000    2205.000000         2205.000000   \n",
            "mean      44.057143  ...          0.257596       0.034467            0.089796   \n",
            "std       51.736211  ...          0.437410       0.182467            0.285954   \n",
            "min        0.000000  ...          0.000000       0.000000            0.000000   \n",
            "25%        9.000000  ...          0.000000       0.000000            0.000000   \n",
            "50%       25.000000  ...          0.000000       0.000000            0.000000   \n",
            "75%       56.000000  ...          1.000000       0.000000            0.000000   \n",
            "max      321.000000  ...          1.000000       1.000000            1.000000   \n",
            "\n",
            "       education_Basic  education_Graduation  education_Master  education_PhD  \\\n",
            "count      2205.000000           2205.000000       2205.000000    2205.000000   \n",
            "mean          0.024490              0.504762          0.165079       0.215873   \n",
            "std           0.154599              0.500091          0.371336       0.411520   \n",
            "min           0.000000              0.000000          0.000000       0.000000   \n",
            "25%           0.000000              0.000000          0.000000       0.000000   \n",
            "50%           0.000000              1.000000          0.000000       0.000000   \n",
            "75%           0.000000              1.000000          0.000000       0.000000   \n",
            "max           1.000000              1.000000          1.000000       1.000000   \n",
            "\n",
            "          MntTotal  MntRegularProds  AcceptedCmpOverall  \n",
            "count  2205.000000      2205.000000          2205.00000  \n",
            "mean    562.764626       518.707483             0.29932  \n",
            "std     575.936911       553.847248             0.68044  \n",
            "min       4.000000      -283.000000             0.00000  \n",
            "25%      56.000000        42.000000             0.00000  \n",
            "50%     343.000000       288.000000             0.00000  \n",
            "75%     964.000000       884.000000             0.00000  \n",
            "max    2491.000000      2458.000000             4.00000  \n",
            "\n",
            "[8 rows x 39 columns]\n"
          ]
        }
      ]
    },
    {
      "cell_type": "code",
      "source": [
        "# Missing values\n",
        "missing = df.isnull().sum()\n",
        "print(\"Missing values:\\n\", missing)\n",
        "\n",
        "# Duplicates\n",
        "duplicates = df.duplicated().sum()\n",
        "print(\"Duplicate rows:\", duplicates)\n"
      ],
      "metadata": {
        "colab": {
          "base_uri": "https://localhost:8080/"
        },
        "id": "iGSXDdJodOCo",
        "outputId": "20159135-f37d-458e-fb5a-31b691308a9f"
      },
      "execution_count": null,
      "outputs": [
        {
          "output_type": "stream",
          "name": "stdout",
          "text": [
            "Missing values:\n",
            " Income                  0\n",
            "Kidhome                 0\n",
            "Teenhome                0\n",
            "Recency                 0\n",
            "MntWines                0\n",
            "MntFruits               0\n",
            "MntMeatProducts         0\n",
            "MntFishProducts         0\n",
            "MntSweetProducts        0\n",
            "MntGoldProds            0\n",
            "NumDealsPurchases       0\n",
            "NumWebPurchases         0\n",
            "NumCatalogPurchases     0\n",
            "NumStorePurchases       0\n",
            "NumWebVisitsMonth       0\n",
            "AcceptedCmp3            0\n",
            "AcceptedCmp4            0\n",
            "AcceptedCmp5            0\n",
            "AcceptedCmp1            0\n",
            "AcceptedCmp2            0\n",
            "Complain                0\n",
            "Z_CostContact           0\n",
            "Z_Revenue               0\n",
            "Response                0\n",
            "Age                     0\n",
            "Customer_Days           0\n",
            "marital_Divorced        0\n",
            "marital_Married         0\n",
            "marital_Single          0\n",
            "marital_Together        0\n",
            "marital_Widow           0\n",
            "education_2n Cycle      0\n",
            "education_Basic         0\n",
            "education_Graduation    0\n",
            "education_Master        0\n",
            "education_PhD           0\n",
            "MntTotal                0\n",
            "MntRegularProds         0\n",
            "AcceptedCmpOverall      0\n",
            "dtype: int64\n",
            "Duplicate rows: 184\n"
          ]
        }
      ]
    },
    {
      "cell_type": "code",
      "source": [
        "# Option 1: Drop rows with missing values\n",
        "df_cleaned = df.dropna()\n",
        "\n",
        "# Option 2: Fill missing values with median (for numerical data)\n",
        "df_filled = df.fillna(df.median(numeric_only=True))\n"
      ],
      "metadata": {
        "id": "6cp6NWIgdQoL"
      },
      "execution_count": null,
      "outputs": []
    },
    {
      "cell_type": "code",
      "source": [
        "df_cleaned = df_cleaned.drop_duplicates()\n"
      ],
      "metadata": {
        "id": "qDguXeaQdUOc"
      },
      "execution_count": null,
      "outputs": []
    },
    {
      "cell_type": "code",
      "source": [
        "# Example check\n",
        "print(df_cleaned[(df_cleaned['Income'] < 0) | (df_cleaned['Income'] > 1_000_000)])\n"
      ],
      "metadata": {
        "colab": {
          "base_uri": "https://localhost:8080/"
        },
        "id": "sFLKq96qdWVK",
        "outputId": "29b867e1-e5d2-4b3b-a1e8-37e72e58ef74"
      },
      "execution_count": null,
      "outputs": [
        {
          "output_type": "stream",
          "name": "stdout",
          "text": [
            "Empty DataFrame\n",
            "Columns: [Income, Kidhome, Teenhome, Recency, MntWines, MntFruits, MntMeatProducts, MntFishProducts, MntSweetProducts, MntGoldProds, NumDealsPurchases, NumWebPurchases, NumCatalogPurchases, NumStorePurchases, NumWebVisitsMonth, AcceptedCmp3, AcceptedCmp4, AcceptedCmp5, AcceptedCmp1, AcceptedCmp2, Complain, Z_CostContact, Z_Revenue, Response, Age, Customer_Days, marital_Divorced, marital_Married, marital_Single, marital_Together, marital_Widow, education_2n Cycle, education_Basic, education_Graduation, education_Master, education_PhD, MntTotal, MntRegularProds, AcceptedCmpOverall]\n",
            "Index: []\n",
            "\n",
            "[0 rows x 39 columns]\n"
          ]
        }
      ]
    },
    {
      "cell_type": "code",
      "source": [
        "print(df_cleaned.info())\n",
        "print(df_cleaned.describe())\n"
      ],
      "metadata": {
        "colab": {
          "base_uri": "https://localhost:8080/"
        },
        "id": "jusU24cudZEX",
        "outputId": "77afd0db-ad0e-4eb2-ff16-bf311b0c6ee4"
      },
      "execution_count": null,
      "outputs": [
        {
          "output_type": "stream",
          "name": "stdout",
          "text": [
            "<class 'pandas.core.frame.DataFrame'>\n",
            "Index: 2021 entries, 0 to 2204\n",
            "Data columns (total 39 columns):\n",
            " #   Column                Non-Null Count  Dtype  \n",
            "---  ------                --------------  -----  \n",
            " 0   Income                2021 non-null   float64\n",
            " 1   Kidhome               2021 non-null   int64  \n",
            " 2   Teenhome              2021 non-null   int64  \n",
            " 3   Recency               2021 non-null   int64  \n",
            " 4   MntWines              2021 non-null   int64  \n",
            " 5   MntFruits             2021 non-null   int64  \n",
            " 6   MntMeatProducts       2021 non-null   int64  \n",
            " 7   MntFishProducts       2021 non-null   int64  \n",
            " 8   MntSweetProducts      2021 non-null   int64  \n",
            " 9   MntGoldProds          2021 non-null   int64  \n",
            " 10  NumDealsPurchases     2021 non-null   int64  \n",
            " 11  NumWebPurchases       2021 non-null   int64  \n",
            " 12  NumCatalogPurchases   2021 non-null   int64  \n",
            " 13  NumStorePurchases     2021 non-null   int64  \n",
            " 14  NumWebVisitsMonth     2021 non-null   int64  \n",
            " 15  AcceptedCmp3          2021 non-null   int64  \n",
            " 16  AcceptedCmp4          2021 non-null   int64  \n",
            " 17  AcceptedCmp5          2021 non-null   int64  \n",
            " 18  AcceptedCmp1          2021 non-null   int64  \n",
            " 19  AcceptedCmp2          2021 non-null   int64  \n",
            " 20  Complain              2021 non-null   int64  \n",
            " 21  Z_CostContact         2021 non-null   int64  \n",
            " 22  Z_Revenue             2021 non-null   int64  \n",
            " 23  Response              2021 non-null   int64  \n",
            " 24  Age                   2021 non-null   int64  \n",
            " 25  Customer_Days         2021 non-null   int64  \n",
            " 26  marital_Divorced      2021 non-null   int64  \n",
            " 27  marital_Married       2021 non-null   int64  \n",
            " 28  marital_Single        2021 non-null   int64  \n",
            " 29  marital_Together      2021 non-null   int64  \n",
            " 30  marital_Widow         2021 non-null   int64  \n",
            " 31  education_2n Cycle    2021 non-null   int64  \n",
            " 32  education_Basic       2021 non-null   int64  \n",
            " 33  education_Graduation  2021 non-null   int64  \n",
            " 34  education_Master      2021 non-null   int64  \n",
            " 35  education_PhD         2021 non-null   int64  \n",
            " 36  MntTotal              2021 non-null   int64  \n",
            " 37  MntRegularProds       2021 non-null   int64  \n",
            " 38  AcceptedCmpOverall    2021 non-null   int64  \n",
            "dtypes: float64(1), int64(38)\n",
            "memory usage: 631.6 KB\n",
            "None\n",
            "              Income      Kidhome     Teenhome      Recency     MntWines  \\\n",
            "count    2021.000000  2021.000000  2021.000000  2021.000000  2021.000000   \n",
            "mean    51687.258783     0.443345     0.509649    48.880752   306.492331   \n",
            "std     20713.046401     0.536196     0.546393    28.950917   337.603877   \n",
            "min      1730.000000     0.000000     0.000000     0.000000     0.000000   \n",
            "25%     35416.000000     0.000000     0.000000    24.000000    24.000000   \n",
            "50%     51412.000000     0.000000     0.000000    49.000000   178.000000   \n",
            "75%     68274.000000     1.000000     1.000000    74.000000   507.000000   \n",
            "max    113734.000000     2.000000     2.000000    99.000000  1493.000000   \n",
            "\n",
            "         MntFruits  MntMeatProducts  MntFishProducts  MntSweetProducts  \\\n",
            "count  2021.000000      2021.000000      2021.000000       2021.000000   \n",
            "mean     26.364671       166.059871        37.603662         27.268679   \n",
            "std      39.776518       219.869126        54.892196         41.575454   \n",
            "min       0.000000         0.000000         0.000000          0.000000   \n",
            "25%       2.000000        16.000000         3.000000          1.000000   \n",
            "50%       8.000000        68.000000        12.000000          8.000000   \n",
            "75%      33.000000       230.000000        50.000000         34.000000   \n",
            "max     199.000000      1725.000000       259.000000        262.000000   \n",
            "\n",
            "       MntGoldProds  ...  marital_Together  marital_Widow  education_2n Cycle  \\\n",
            "count   2021.000000  ...       2021.000000    2021.000000         2021.000000   \n",
            "mean      43.921821  ...          0.251856       0.034636            0.090549   \n",
            "std       51.678211  ...          0.434186       0.182902            0.287038   \n",
            "min        0.000000  ...          0.000000       0.000000            0.000000   \n",
            "25%        9.000000  ...          0.000000       0.000000            0.000000   \n",
            "50%       25.000000  ...          0.000000       0.000000            0.000000   \n",
            "75%       56.000000  ...          1.000000       0.000000            0.000000   \n",
            "max      321.000000  ...          1.000000       1.000000            1.000000   \n",
            "\n",
            "       education_Basic  education_Graduation  education_Master  education_PhD  \\\n",
            "count      2021.000000           2021.000000       2021.000000    2021.000000   \n",
            "mean          0.024245              0.502227          0.165760       0.217219   \n",
            "std           0.153848              0.500119          0.371957       0.412455   \n",
            "min           0.000000              0.000000          0.000000       0.000000   \n",
            "25%           0.000000              0.000000          0.000000       0.000000   \n",
            "50%           0.000000              1.000000          0.000000       0.000000   \n",
            "75%           0.000000              1.000000          0.000000       0.000000   \n",
            "max           1.000000              1.000000          1.000000       1.000000   \n",
            "\n",
            "          MntTotal  MntRegularProds  AcceptedCmpOverall  \n",
            "count  2021.000000      2021.000000         2021.000000  \n",
            "mean    563.789213       519.867392            0.302326  \n",
            "std     576.775749       554.797857            0.680812  \n",
            "min       4.000000      -283.000000            0.000000  \n",
            "25%      55.000000        42.000000            0.000000  \n",
            "50%     343.000000       288.000000            0.000000  \n",
            "75%     964.000000       883.000000            0.000000  \n",
            "max    2491.000000      2458.000000            4.000000  \n",
            "\n",
            "[8 rows x 39 columns]\n"
          ]
        }
      ]
    },
    {
      "cell_type": "code",
      "source": [
        "df['TotalSpend'] = df[['MntWines', 'MntFruits', 'MntMeatProducts',\n",
        "                       'MntFishProducts', 'MntSweetProducts', 'MntGoldProds']].sum(axis=1)\n",
        "\n",
        "avg_purchase_value = df['TotalSpend'].mean()\n",
        "print(\"Average Purchase Value:\", round(avg_purchase_value, 2))\n",
        "\n",
        "\n",
        "purchase_frequency_est = df['Recency'].apply(lambda x: 1 if x <= 30 else (0.5 if x <= 90 else 0.1))\n",
        "print(\"Estimated Purchase Frequency Score (0-1):\")\n",
        "print(purchase_frequency_est.value_counts())\n",
        "\n",
        "\n",
        "avg_kidhome = df['Kidhome'].mean()\n",
        "avg_teenhome = df['Teenhome'].mean()\n",
        "print(f\"Avg Kidhome: {avg_kidhome:.2f}, Avg Teenhome: {avg_teenhome:.2f}\")\n",
        "\n",
        "\n",
        "spending_cols = ['MntWines', 'MntFruits', 'MntMeatProducts',\n",
        "                 'MntFishProducts', 'MntSweetProducts', 'MntGoldProds']\n",
        "\n",
        "for col in spending_cols:\n",
        "    print(f\"\\n📊 {col} Stats:\")\n",
        "    print(f\"Mean: {df[col].mean():.2f}\")\n",
        "    print(f\"Median: {df[col].median():.2f}\")\n",
        "    print(f\"Mode: {df[col].mode().values[0]}\")\n",
        "    print(f\"Standard Deviation: {df[col].std():.2f}\")"
      ],
      "metadata": {
        "colab": {
          "base_uri": "https://localhost:8080/"
        },
        "id": "eeJI8MFAdbef",
        "outputId": "899fc972-3d26-4c35-ca22-4e3ec5db9260"
      },
      "execution_count": null,
      "outputs": [
        {
          "output_type": "stream",
          "name": "stdout",
          "text": [
            "Average Purchase Value: 606.82\n",
            "Estimated Purchase Frequency Score (0-1):\n",
            "Recency\n",
            "0.5    1298\n",
            "1.0     714\n",
            "0.1     193\n",
            "Name: count, dtype: int64\n",
            "Avg Kidhome: 0.44, Avg Teenhome: 0.51\n",
            "\n",
            "📊 MntWines Stats:\n",
            "Mean: 306.16\n",
            "Median: 178.00\n",
            "Mode: 2\n",
            "Standard Deviation: 337.49\n",
            "\n",
            "📊 MntFruits Stats:\n",
            "Mean: 26.40\n",
            "Median: 8.00\n",
            "Mode: 0\n",
            "Standard Deviation: 39.78\n",
            "\n",
            "📊 MntMeatProducts Stats:\n",
            "Mean: 165.31\n",
            "Median: 68.00\n",
            "Mode: 7\n",
            "Standard Deviation: 217.78\n",
            "\n",
            "📊 MntFishProducts Stats:\n",
            "Mean: 37.76\n",
            "Median: 12.00\n",
            "Mode: 0\n",
            "Standard Deviation: 54.82\n",
            "\n",
            "📊 MntSweetProducts Stats:\n",
            "Mean: 27.13\n",
            "Median: 8.00\n",
            "Mode: 0\n",
            "Standard Deviation: 41.13\n",
            "\n",
            "📊 MntGoldProds Stats:\n",
            "Mean: 44.06\n",
            "Median: 25.00\n",
            "Mode: 3\n",
            "Standard Deviation: 51.74\n"
          ]
        }
      ]
    }
  ]
}