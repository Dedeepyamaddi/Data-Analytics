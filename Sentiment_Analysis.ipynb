{
  "nbformat": 4,
  "nbformat_minor": 0,
  "metadata": {
    "colab": {
      "provenance": [],
      "authorship_tag": "ABX9TyPc3n4atyWVUmq6AVuIMl58",
      "include_colab_link": true
    },
    "kernelspec": {
      "name": "python3",
      "display_name": "Python 3"
    },
    "language_info": {
      "name": "python"
    }
  },
  "cells": [
    {
      "cell_type": "markdown",
      "metadata": {
        "id": "view-in-github",
        "colab_type": "text"
      },
      "source": [
        "<a href=\"https://colab.research.google.com/github/Dedeepyamaddi/Data-Analytics/blob/main/Sentiment_Analysis.ipynb\" target=\"_parent\"><img src=\"https://colab.research.google.com/assets/colab-badge.svg\" alt=\"Open In Colab\"/></a>"
      ]
    },
    {
      "cell_type": "code",
      "execution_count": null,
      "metadata": {
        "colab": {
          "base_uri": "https://localhost:8080/",
          "height": 975
        },
        "id": "002B0F2QuaTs",
        "outputId": "e39dd6c9-afd3-4efa-9ad1-bf12f12c833d"
      },
      "outputs": [
        {
          "output_type": "stream",
          "name": "stderr",
          "text": [
            "[nltk_data] Downloading package stopwords to /root/nltk_data...\n",
            "[nltk_data]   Package stopwords is already up-to-date!\n"
          ]
        },
        {
          "output_type": "stream",
          "name": "stdout",
          "text": [
            "Original Shape: (162980, 2)\n",
            "                                          clean_text  category\n",
            "0  when modi promised “minimum government maximum...      -1.0\n",
            "1  talk all the nonsense and continue all the dra...       0.0\n",
            "2  what did just say vote for modi  welcome bjp t...       1.0\n",
            "3  asking his supporters prefix chowkidar their n...       1.0\n",
            "4  answer who among these the most powerful world...       1.0\n",
            "\n",
            "Classification Report:\n",
            "              precision    recall  f1-score   support\n",
            "\n",
            "          -1       0.85      0.39      0.54      7230\n",
            "           0       0.77      0.61      0.68     10961\n",
            "           1       0.63      0.90      0.74     14404\n",
            "\n",
            "    accuracy                           0.69     32595\n",
            "   macro avg       0.75      0.64      0.65     32595\n",
            "weighted avg       0.73      0.69      0.68     32595\n",
            "\n",
            "\n",
            "Confusion Matrix:\n"
          ]
        },
        {
          "output_type": "display_data",
          "data": {
            "text/plain": [
              "<Figure size 640x480 with 2 Axes>"
            ],
            "image/png": "[encoded data removed]"
          },
          "metadata": {}
        },
        {
          "output_type": "stream",
          "name": "stdout",
          "text": [
            "\n",
            "Accuracy: 69.15%\n",
            "\n",
            "Sample Prediction:\n",
            "Text: I love this new product!\n",
            "Sentiment: 1\n"
          ]
        }
      ],
      "source": [
        "import pandas as pd\n",
        "import numpy as np\n",
        "import re\n",
        "import string\n",
        "import matplotlib.pyplot as plt\n",
        "import seaborn as sns\n",
        "\n",
        "from sklearn.model_selection import train_test_split\n",
        "from sklearn.feature_extraction.text import TfidfVectorizer\n",
        "from sklearn.naive_bayes import MultinomialNB\n",
        "from sklearn.metrics import classification_report, confusion_matrix, accuracy_score\n",
        "\n",
        "import nltk\n",
        "from nltk.corpus import stopwords\n",
        "from nltk.stem import PorterStemmer\n",
        "nltk.download('stopwords')\n",
        "\n",
        "# -------------------------------\n",
        "# 1. Load Dataset\n",
        "# -------------------------------\n",
        "df = pd.read_csv(\"/content/Twitter_Data.csv\")\n",
        "print(\"Original Shape:\", df.shape)\n",
        "print(df.head())\n",
        "\n",
        "# -------------------------------\n",
        "# 2. Clean the Text\n",
        "# -------------------------------\n",
        "stop_words = set(stopwords.words(\"english\"))\n",
        "stemmer = PorterStemmer()\n",
        "\n",
        "def clean_text(text):\n",
        "    text = str(text).lower()\n",
        "    text = re.sub(r\"http\\S+|www\\S+|https\\S+\", '', text, flags=re.MULTILINE)  # remove URLs\n",
        "    text = re.sub(r'\\@w+|\\#','', text)  # remove @ and #\n",
        "    text = re.sub(r'\\d+', '', text)  # remove digits\n",
        "    text = re.sub(r\"[^\\w\\s]\", '', text)  # remove punctuation\n",
        "    text = \" \".join([stemmer.stem(word) for word in text.split() if word not in stop_words])\n",
        "    return text\n",
        "\n",
        "df['clean_text'] = df['clean_text'].apply(clean_text)\n",
        "\n",
        "# -------------------------------\n",
        "# 3. Prepare Data\n",
        "# -------------------------------\n",
        "# Drop rows with missing values in the 'category' column\n",
        "df.dropna(subset=['category'], inplace=True)\n",
        "\n",
        "X = df['clean_text']\n",
        "y = df['category'].astype(int)  # Expected to be: Positive, Negative, Neutral\n",
        "\n",
        "# Encode labels if necessary\n",
        "from sklearn.preprocessing import LabelEncoder\n",
        "le = LabelEncoder()\n",
        "y = le.fit_transform(y)\n",
        "\n",
        "# -------------------------------\n",
        "# 4. TF-IDF Vectorization\n",
        "# -------------------------------\n",
        "tfidf = TfidfVectorizer(max_features=5000)\n",
        "X_tfidf = tfidf.fit_transform(X)\n",
        "\n",
        "# -------------------------------\n",
        "# 5. Train/Test Split\n",
        "# -------------------------------\n",
        "X_train, X_test, y_train, y_test = train_test_split(X_tfidf, y, test_size=0.2, random_state=42)\n",
        "\n",
        "# -------------------------------\n",
        "# 6. Train Model (Naive Bayes)\n",
        "# -------------------------------\n",
        "model = MultinomialNB()\n",
        "model.fit(X_train, y_train)\n",
        "\n",
        "# -------------------------------\n",
        "# 7. Evaluate Model\n",
        "# -------------------------------\n",
        "y_pred = model.predict(X_test)\n",
        "\n",
        "# Define target names based on the integer labels\n",
        "target_names = ['-1', '0', '1'] # Assuming -1, 0, 1 correspond to your categories\n",
        "\n",
        "print(\"\\nClassification Report:\")\n",
        "print(classification_report(y_test, y_pred, target_names=target_names))\n",
        "\n",
        "print(\"\\nConfusion Matrix:\")\n",
        "sns.heatmap(confusion_matrix(y_test, y_pred), annot=True, fmt='d', xticklabels=target_names, yticklabels=target_names)\n",
        "plt.xlabel(\"Predicted\")\n",
        "plt.ylabel(\"Actual\")\n",
        "plt.title(\"Confusion Matrix\")\n",
        "plt.show()\n",
        "\n",
        "print(f\"\\nAccuracy: {accuracy_score(y_test, y_pred)*100:.2f}%\")\n",
        "\n",
        "# -------------------------------\n",
        "# 8. Sample Prediction\n",
        "# -------------------------------\n",
        "def predict_sentiment(text):\n",
        "    cleaned = clean_text(text)\n",
        "    vector = tfidf.transform([cleaned])\n",
        "    prediction = model.predict(vector)\n",
        "    # Inverse transform the prediction to get the original label\n",
        "    predicted_label = le.inverse_transform(prediction)[0]\n",
        "    return predicted_label\n",
        "\n",
        "# Try a custom tweet\n",
        "print(\"\\nSample Prediction:\")\n",
        "print(\"Text: I love this new product!\")\n",
        "print(\"Sentiment:\", predict_sentiment(\"I love this new product!\"))"
      ]
    },
    {
      "cell_type": "code",
      "source": [],
      "metadata": {
        "id": "7z9dpDIju5zY"
      },
      "execution_count": null,
      "outputs": []
    }
  ]
}